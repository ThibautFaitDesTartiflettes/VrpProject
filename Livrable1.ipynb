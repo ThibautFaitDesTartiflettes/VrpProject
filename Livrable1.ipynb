{
 "cells": [
  {
   "cell_type": "markdown",
   "metadata": {},
   "source": [
    "# Projet Algo Avancée"
   ]
  },
  {
   "cell_type": "markdown",
   "metadata": {},
   "source": [
    "![alt Représentation graphique](https://moodle-ingenieurs.cesi.fr/pluginfile.php/495239/mod_resource/content/2/res/projet.png)"
   ]
  },
  {
   "cell_type": "markdown",
   "metadata": {},
   "source": [
    "## Sommaire\n",
    "\n",
    "1. Contexte\n",
    "2. Version \n",
    "3. Reformulation formelle\n",
    "4. Complexité théorique"
   ]
  },
  {
   "cell_type": "markdown",
   "metadata": {},
   "source": [
    "## Contexte :\n",
    "\n",
    "Nous sommes une équipe de 4 personnes appartenant à **CesiCDP**. L’ADEME (Agence de l’Environnement et de la maîtrise de l’Énergie) nous a sollicité pour proposer une nouvelle solution afin d'optimiser la mobilité de personnes et de marchandises entre différentes villes.\n",
    "\n",
    "Nous avons décidé d’orienter notre étude sur la gestion de tournées de livraison. Pour cela, nous aurons à prendre en compte différents facteurs comme le trafic, les horaires. Tout cela sera résumé par un problème algorithmique issu de la recherche opérationnelle.\n",
    "\n"
   ]
  },
  {
   "cell_type": "markdown",
   "metadata": {},
   "source": [
    "## Version\n",
    "\n",
    "Langage de programmation : **Python**\n",
    "\n",
    "Algorithme permettant de gérer les tournées de livraison de manière optimale. Il doit être capable de gérer des instances de taille importante (plusieurs milliers de villes). Il doit tenir compte des conditions de temps de livraison et de transport. De plus, nous avons décidé d'ajouter des contraintes :\n",
    "- De **trafic** (il peut y avoir des bouchons par exemple)\n",
    "- *Éventuellement* de proposer le **trajet le moins poluant** possible."
   ]
  },
  {
   "cell_type": "markdown",
   "metadata": {},
   "source": [
    "## Reformulation formelle\n",
    "\n",
    "### Données\n",
    "\n",
    "Nous avons fait le choix de représenter le problème sous forme d'une **matrice**. Dans ce cas, nous pourrons utiliser cette matrice de différentes manières :\n",
    "- Matrice d'adjacence\n",
    "- Matrice de temps\n",
    "- Matrice de distances\n",
    "\n",
    "\n",
    "### Problème\n",
    "\n",
    "Le problème se réfère à la recherche de **chaînes hamiltoniennes** dans un **graphe**. Ces chaînes nous permettrons de s'assurer que toutes les livraisons qui seront à faire dans une ville seront faites en même temps, permettant de ne pas repasser par cette ville plus tard. Cela nous permettra d'**optimiser** notre temps de livraison et ainsi d'**accélérer** le processus global.\n",
    "\n",
    "\n",
    "### Optimisation\n",
    "\n",
    "Dans un soucis de temps de traitement, il est nécessaire de poser des **contraintes** afin que l'algorithme retourne un résultat *satisfaisant* en un minimum de temps. Cette algorithme sera donc un algorithme de **métaheuristique**. Il sera nécessaire de faire un choix parmi un temps de traitement acceptable ou un nombre d'itérations maximum."
   ]
  },
  {
   "cell_type": "markdown",
   "metadata": {},
   "source": [
    "## Complexité théorique\n",
    "\n"
   ]
  }
 ],
 "metadata": {
  "interpreter": {
   "hash": "6e6510b3d1a11d9ebb937fdddee15d8eb3bd2802fe0b46f67694b3e8c5b1f581"
  },
  "kernelspec": {
   "display_name": "Python 3 (ipykernel)",
   "language": "python",
   "name": "python3"
  },
  "language_info": {
   "codemirror_mode": {
    "name": "ipython",
    "version": 3
   },
   "file_extension": ".py",
   "mimetype": "text/x-python",
   "name": "python",
   "nbconvert_exporter": "python",
   "pygments_lexer": "ipython3",
   "version": "3.9.12"
  }
 },
 "nbformat": 4,
 "nbformat_minor": 2
}
