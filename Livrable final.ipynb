{
 "cells": [
  {
   "cell_type": "markdown",
   "id": "20347ebb",
   "metadata": {},
   "source": [
    "# Projet Algorithmique avancée"
   ]
  },
  {
   "cell_type": "markdown",
   "id": "75159812",
   "metadata": {},
   "source": [
    "![alt Représentation graphique](https://moodle-ingenieurs.cesi.fr/pluginfile.php/495239/mod_resource/content/2/res/projet.png)"
   ]
  },
  {
   "cell_type": "markdown",
   "id": "dbf786bb",
   "metadata": {},
   "source": [
    "## Sommaire\n",
    "\n",
    "1. Contexte\n",
    "2. Version\n",
    "3. Reformulation\n",
    "    1. Complexité théorique\n",
    "        1. Démonstration\n",
    "        2. Solution\n",
    "    2. Métaheuristiques\n",
    "        1. Plus proche voisin\n",
    "        2. Colonie de fourmis\n",
    "        3. Génétique\n",
    "    3. Comparaison\n",
    "4. Bibliographie"
   ]
  },
  {
   "cell_type": "markdown",
   "id": "834f371e",
   "metadata": {},
   "source": [
    "## Contexte :\n",
    "\n",
    "Nous sommes une équipe de 4 personnes appartenant à **CesiCDP**. L’ADEME (Agence de l’Environnement et de la maîtrise de l’Énergie) nous a sollicité pour proposer une nouvelle solution afin d'optimiser la mobilité de personnes et de marchandises entre différentes villes. \n",
    "\n",
    "Nous avons décidé d’orienter notre étude sur la gestion de tournées de livraison. Pour cela, nous aurons à prendre en compte différents facteurs comme le trafic, les horaires. Tout cela sera résumé par un problème algorithmique issu de la recherche opérationnelle.\n",
    "\n",
    "Le but est de développer un algorithme qui permettra de trouver un chemin le plus **optimal** possible."
   ]
  },
  {
   "cell_type": "markdown",
   "id": "3266df46",
   "metadata": {},
   "source": [
    "## Version\n",
    "\n",
    "Langage de programmation imposé : **Python**\n",
    "\n",
    "Algorithme permettant de gérer les tournées de livraison de manière optimale. Il doit être capable de gérer des instances de taille importante (plusieurs milliers de villes). Il doit permettre de trouver le chemin optimal afin d'optimiser le temps de la tournée et le nombre de kilomètres. De plus, nous avons décidé d'ajouter des contraintes :\n",
    "- De **trafic** (il peut y avoir des bouchons)"
   ]
  },
  {
   "cell_type": "markdown",
   "id": "44c86f6d",
   "metadata": {},
   "source": [
    "## Reformulation\n",
    "\n",
    "### Complexité théorique\n",
    "\n",
    "Notre problème correspond à un problème du VRP (Vehicule Routing Problem), ou en français problème de tournée de véhicule. Le problème du VRP est un problème appartenant à la classe des problèmes du voyageur de commerce. Ce problème est NP-complet, c'est-à-dire qu'il ne peut être résolu exactement dans des temps concevables.\n",
    "\n",
    "#### Démonstration\n",
    "\n",
    "*Il est important de préciser que comme le problème de tournée de véhicules est un dérivé du problème du voyageur de commerce, il possède la même complexité que celui-ci. Donc démontrer que le problème du voyageur de commerce est NP-Complet revient à démontrer que le problème de la tournée de véhicule est NP-Complet.*\n",
    "\n",
    "#### Solution\n",
    "\n",
    "Afin de résoudre des problèmes NP-Complets, des algorithmes ont été développés : les métaheuristiques. \n",
    "\n",
    "> Une métaheuristique est un algorithme d’optimisation visant à résoudre des problèmes d’optimisation difficile pour lesquels on ne connaît pas de méthode classique plus efficace.\n",
    "\n",
    "Grâce à ces métaheuristiques, on va pouvoir trouver une solution approchée dans des temps de traitements corrects. Il existe beaucoup de métaheuristiques différentes, permettant des approches différentes du problème et des méthodes de résolution différentes. Nous nous sommes concentrés sur 3 de ces métaheuristiques : \n",
    "- Plus proche voisin\n",
    "- Colonie de fourmis\n",
    "- Génétique\n"
   ]
  },
  {
   "attachments": {},
   "cell_type": "markdown",
   "id": "5daed3fc",
   "metadata": {},
   "source": [
    "### Métaheuristiques \n",
    "\n",
    "#### Plus proche voisin\n",
    "\n",
    "Cette méthode est très simple à mettre en place et à comprendre. En effet, on a besoin d'un nombre $k$ définissant un cercle autour du point et permettant de voir dans un **périmètre défini** qui est voisin de ce point. En jouant avec la valeur de $k$, on peut trouver quel est le point le plus proche de notre point de recherche. On attribue alors une classe en fonction du voisin pour permettre de regrouper les voisins.\n",
    "\n",
    "<img style=\"margin: 40px auto;\" src=\"https://miro.medium.com/max/810/1*0Pqqx6wGDfFm_7GLebg2Hw.png\" alt=\"Schéma plus proche voisin\" width=\"300\"/>\n",
    "\n",
    "\n",
    "#### Colonie de fourmis\n",
    "\n",
    "Les algorithmes de colonies de fourmis sont inspirés du comportement des fourmis. \n",
    "\n",
    "- Une fourmi *eclaireuse* parcours au hasard le territoire autour de la colonie. \n",
    "- Si quelque chose est trouvé, elle rentre au nid en suivant les **phéromones** qu'elle a laissées. \n",
    "- Ces phéromones étant attractives, les fourmis à proximité vont suivre cet itinéraire de façon plus ou moins directe, elles renforceront ainsi la puissance des phéromones présentes. Si deux *chemins* mènent au même endroit le plus court sera privilégiée, renforçant les phéromones sur ce chemin et poussant les autres fourmis à le suivre plutôt qu'un autre. \n",
    "- Les *chemins* les plus longs finissent par disparaîtres et à terme la piste la plus courte est la seule présente.\n",
    "\n",
    "<img style=\"margin: 40px auto;\" src=\"https://upload.wikimedia.org/wikipedia/commons/thumb/a/af/Aco_branches.svg/330px-Aco_branches.svg.png\" alt=\"Schéma colonie de fourmis\" width=\"300\"/>\n",
    "\n",
    "\n",
    "#### Génétique\n",
    "\n",
    "Un algorithme génétique est un algorithme appartenant à la famille des algorithmes évolutionnistes. Le but de ces algorithmes est de trouver des solutions approchées pour des problèmes d'optimisations. Ils permettent de fournir une réponse en un temps acceptable lorsque l'on ne connaît pas de méthodes de résolution plus efficaces.\n",
    "\n",
    "On retrouve la notion de **sélection naturelle** dans ces algorithmes. C'est-à-dire qu'à la fin d'une *génération*, on va garder seulement les *individus* possédant les *valeurs d'aptitudes* les plus hautes. On aura alors une nouvelle génération dans laquelle seuls les individus les plus intéressants auront survécu et fusionnés. On pourra alors, au fur et à mesure des générations, avoir une précision de plus en plus précise.\n",
    "\n",
    "<img style=\"margin-top: 40px;\" src=\"https://khayyam.developpez.com/articles/algo/genetic/images/schema_gen.gif\" alt=\"schéma algo génétique\" width=\"300\"/>"
   ]
  },
  {
   "cell_type": "markdown",
   "id": "366d4b50",
   "metadata": {},
   "source": [
    "### Comparaison\n",
    "\n"
   ]
  },
  {
   "cell_type": "markdown",
   "id": "6b0d60de",
   "metadata": {},
   "source": [
    "## Bibliographie\n",
    "\n",
    "Sources :\n",
    "- https://tel.archives-ouvertes.fr/tel-00966428/document\n",
    "- http://www.numdam.org/article/RO_1990__24_3_217_0.pdf\n",
    "- http://indexation.univ-fcomte.fr/nuxeo/site/esupversions/d5248833-8393-46e1-8710-f5e605e99d86\n",
    "- https://publications.polymtl.ca/1603/1/2014_AlexandreLeuliet.pdf"
   ]
  }
 ],
 "metadata": {
  "kernelspec": {
   "display_name": "Python 3 (ipykernel)",
   "language": "python",
   "name": "python3"
  },
  "language_info": {
   "codemirror_mode": {
    "name": "ipython",
    "version": 3
   },
   "file_extension": ".py",
   "mimetype": "text/x-python",
   "name": "python",
   "nbconvert_exporter": "python",
   "pygments_lexer": "ipython3",
   "version": "3.9.12"
  }
 },
 "nbformat": 4,
 "nbformat_minor": 5
}
