{
 "cells": [
  {
   "cell_type": "markdown",
   "metadata": {},
   "source": [
    "# Shortest Neighbour"
   ]
  },
  {
   "cell_type": "markdown",
   "metadata": {},
   "source": [
    "## Pseudo Code\n",
    "```\n",
    "// init the graph\n",
    "set graph = [];\n",
    "\n",
    "//init the path\n",
    "set path = [];\n",
    "\n",
    "// depend of the type of data\n",
    "function GetGraphOrder(graph) {\n",
    "    return graph.Count;\n",
    "}\n",
    "\n",
    "// store the order of the graph\n",
    "set i_graphOrder = GetGraphOrder(graph);\n",
    "\n",
    "// init the path with the first point\n",
    "path.Add(graph.Vertex[0]);\n",
    "graph.Vertex.RemoveAt(0);\n",
    "\n",
    "while (path.Count != i_graphOrder) {\n",
    "\n",
    "    // set variable to store the selected vertex index and \n",
    "    set i_idxVertex = -1;\n",
    "    set f_weightSelected = float.NaN;\n",
    "\n",
    "    for (i = 0; i < graph.Vertex.Count; i++)\n",
    "    {\n",
    "        // set \n",
    "        set f_curWeight = graph[path[path.Count-1]][i];\n",
    "        \n",
    "        if ( (!float.IsNaN(f_curWeight)) && (float.IsNaN(f_weightSelected) || f_curWeight < f_weightSelected))\n",
    "        {\n",
    "            i_idxVertex = i;\n",
    "            f_weightSelected = f_curWeight;\n",
    "        }    \n",
    "    }\n",
    "\n",
    "    \n",
    "    if (i_idxVertex > 0)\n",
    "    {\n",
    "        // add the vertex to the path\n",
    "        path.Add(graph.Vertex[i_idxVertex])\n",
    "    }\n",
    "    else\n",
    "    {\n",
    "        // error\n",
    "        path = null;\n",
    "        return;\n",
    "    }\n",
    "}\n",
    "\n",
    "print (path);\n",
    "```"
   ]
  },
  {
   "cell_type": "code",
   "execution_count": null,
   "metadata": {
    "vscode": {
     "languageId": "plaintext"
    }
   },
   "outputs": [],
   "source": []
  },
  {
   "cell_type": "markdown",
   "metadata": {},
   "source": [
    "## Complexity"
   ]
  },
  {
   "cell_type": "code",
   "execution_count": null,
   "metadata": {
    "vscode": {
     "languageId": "plaintext"
    }
   },
   "outputs": [],
   "source": [
    "import matplotlib.pyplot as plt\n",
    "import numpy as np\n",
    "import math\n",
    "\n",
    "\n",
    "listX = []\n",
    "listY_Complexy = []\n",
    "listY_squaredX = []\n",
    "listY_n = []\n",
    "listY_log = []\n",
    "listY_exp = []\n",
    "\n",
    "nbStep = 100\n",
    "for xStep  in range(nbStep):\n",
    "    x = float( xStep)\n",
    "    y = float()\n",
    "    listX.append(xStep)\n",
    "\n",
    "    listY_Complexy.append(((xStep+1)*xStep)/2)\n",
    "    listY_n.append(xStep)\n",
    "    listY_squaredX.append(pow(xStep,2))\n",
    "    if (xStep == 0):\n",
    "        listY_log.append(0)\n",
    "    else:\n",
    "        listY_log.append(math.log(xStep))\n",
    "\n",
    "    listY_exp.append(math.exp(xStep))\n",
    "    \n",
    "\n",
    "xPoints = np.array(listX)\n",
    "yPoints = np.array(listY_Complexy)\n",
    "\n",
    "yPointsSqrt = np.array(listY_squaredX)\n",
    "yPointsLog = np.array(listY_log)\n",
    "yPointsN = np.array(listY_n)\n",
    "yPointsExp = np.array(listY_exp)\n",
    "\n",
    "plt.plot(xPoints,yPoints,'m')\n",
    "\n",
    "plt.plot(xPoints,yPointsSqrt,'y')\n",
    "plt.plot(xPoints,yPointsLog,'b')\n",
    "plt.plot(xPoints,yPointsN,'g')\n",
    "plt.plot(xPoints,yPointsExp,'r')\n",
    "\n",
    "plt.show()"
   ]
  }
 ],
 "metadata": {
  "language_info": {
   "name": "python"
  },
  "orig_nbformat": 4
 },
 "nbformat": 4,
 "nbformat_minor": 2
}
